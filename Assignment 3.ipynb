{
 "cells": [
  {
   "cell_type": "code",
   "execution_count": 1,
   "id": "67a7ba99",
   "metadata": {
    "id": "4c76f7fe"
   },
   "outputs": [],
   "source": [
    "import pandas as pd\n",
    "from copy import deepcopy"
   ]
  },
  {
   "cell_type": "markdown",
   "id": "242cb795",
   "metadata": {},
   "source": [
    "## Part 1, Attribution"
   ]
  },
  {
   "cell_type": "code",
   "execution_count": 2,
   "id": "7f46aa7d",
   "metadata": {
    "id": "7d5cce98"
   },
   "outputs": [],
   "source": [
    "# Read the data and find all cost types\n",
    "allocation_data = pd.read_csv(\"attribution_allocation_student_data.csv\")\n",
    "allocation_data.fillna(0,inplace=True)\n",
    "channel_spend = pd.read_csv(\"channel_spend_student_data.csv\")\n",
    "tiers_cost = list(channel_spend.iloc[:,1])\n",
    "tiers_cost = [eval(tier_cost) for tier_cost in tiers_cost]\n",
    "cost_types = list(tiers_cost[0].keys())"
   ]
  },
  {
   "cell_type": "code",
   "execution_count": 3,
   "id": "6babca50",
   "metadata": {},
   "outputs": [
    {
     "data": {
      "text/html": [
       "<div>\n",
       "<style scoped>\n",
       "    .dataframe tbody tr th:only-of-type {\n",
       "        vertical-align: middle;\n",
       "    }\n",
       "\n",
       "    .dataframe tbody tr th {\n",
       "        vertical-align: top;\n",
       "    }\n",
       "\n",
       "    .dataframe thead th {\n",
       "        text-align: right;\n",
       "    }\n",
       "</style>\n",
       "<table border=\"1\" class=\"dataframe\">\n",
       "  <thead>\n",
       "    <tr style=\"text-align: right;\">\n",
       "      <th></th>\n",
       "      <th>Unnamed: 0</th>\n",
       "      <th>0</th>\n",
       "    </tr>\n",
       "  </thead>\n",
       "  <tbody>\n",
       "    <tr>\n",
       "      <th>0</th>\n",
       "      <td>tier1</td>\n",
       "      <td>{'email': 1000.0, 'social': 1000.0000000000001...</td>\n",
       "    </tr>\n",
       "    <tr>\n",
       "      <th>1</th>\n",
       "      <td>tier2</td>\n",
       "      <td>{'email': 2000.0, 'social': 2000.0, 'display':...</td>\n",
       "    </tr>\n",
       "    <tr>\n",
       "      <th>2</th>\n",
       "      <td>tier3</td>\n",
       "      <td>{'email': 3000.0, 'social': 3000.0, 'display':...</td>\n",
       "    </tr>\n",
       "  </tbody>\n",
       "</table>\n",
       "</div>"
      ],
      "text/plain": [
       "  Unnamed: 0                                                  0\n",
       "0      tier1  {'email': 1000.0, 'social': 1000.0000000000001...\n",
       "1      tier2  {'email': 2000.0, 'social': 2000.0, 'display':...\n",
       "2      tier3  {'email': 3000.0, 'social': 3000.0, 'display':..."
      ]
     },
     "execution_count": 3,
     "metadata": {},
     "output_type": "execute_result"
    }
   ],
   "source": [
    "channel_spend"
   ]
  },
  {
   "cell_type": "code",
   "execution_count": 4,
   "id": "6aad6d88",
   "metadata": {
    "id": "9c977e41"
   },
   "outputs": [],
   "source": [
    "# Create the subset of different convert condition and tiers\n",
    "convert_TF = [True,False]\n",
    "tiers = [1,2,3]\n",
    "allocation_group = [[[0,dict()] for _ in tiers] for _ in convert_TF]\n",
    "for i,convert in enumerate(convert_TF):\n",
    "    for j,tier in enumerate(tiers):\n",
    "        allocation_group[i][j] = allocation_data[(allocation_data[\"convert_TF\"]==convert) & (allocation_data[\"tier\"]==tier)].iloc[:,1:6]"
   ]
  },
  {
   "cell_type": "code",
   "execution_count": 5,
   "id": "9b4f59d1",
   "metadata": {
    "id": "7f679f32"
   },
   "outputs": [],
   "source": [
    "# Compute the credit of each subset and find the total credit for each channel\n",
    "def count(x,cost,option):\n",
    "    start = 0\n",
    "    end = len(x)-1\n",
    "    while x[end]==0:\n",
    "        end-=1\n",
    "    if option==1:\n",
    "        cost[x[end]]+=1\n",
    "    elif option==2:\n",
    "        if end-start<=1:\n",
    "            cost[x[start]]+=0.5\n",
    "            cost[x[end]]+=0.5\n",
    "        else:\n",
    "            cost[x[start]]+=0.4\n",
    "            cost[x[end]]+=0.4\n",
    "            size = end-start-1\n",
    "            for i in range(size):\n",
    "                cost[x[start+i+1]]+=0.2/size\n",
    "    elif option==3:\n",
    "        size = end-start+1\n",
    "        for i in range(size):\n",
    "            cost[x[start+i]] += 1/size"
   ]
  },
  {
   "cell_type": "code",
   "execution_count": 6,
   "id": "00d36df8",
   "metadata": {},
   "outputs": [],
   "source": [
    "cost = dict()\n",
    "for i in cost_types:\n",
    "    cost[i] = 0\n",
    "options = {\"Last\":1,\"Position\":2,\"Linear\":3}\n",
    "\n",
    "number_cus_linear = [[deepcopy(cost) for _ in tiers] for _ in convert_TF]\n",
    "number_cus_last = [[deepcopy(cost) for _ in tiers] for _ in convert_TF]\n",
    "number_cus_position = [[deepcopy(cost) for _ in tiers] for _ in convert_TF]"
   ]
  },
  {
   "cell_type": "code",
   "execution_count": 7,
   "id": "57be527a",
   "metadata": {
    "colab": {
     "base_uri": "https://localhost:8080/",
     "height": 173
    },
    "id": "0f09e7bc",
    "outputId": "60c0047d-32c9-42e1-e5af-9eb9f49a5ff7"
   },
   "outputs": [
    {
     "data": {
      "text/html": [
       "<div>\n",
       "<style scoped>\n",
       "    .dataframe tbody tr th:only-of-type {\n",
       "        vertical-align: middle;\n",
       "    }\n",
       "\n",
       "    .dataframe tbody tr th {\n",
       "        vertical-align: top;\n",
       "    }\n",
       "\n",
       "    .dataframe thead th {\n",
       "        text-align: right;\n",
       "    }\n",
       "</style>\n",
       "<table border=\"1\" class=\"dataframe\">\n",
       "  <thead>\n",
       "    <tr style=\"text-align: right;\">\n",
       "      <th></th>\n",
       "      <th>email</th>\n",
       "      <th>social</th>\n",
       "      <th>display</th>\n",
       "      <th>paid_search</th>\n",
       "      <th>referral</th>\n",
       "      <th>organic_search</th>\n",
       "      <th>direct</th>\n",
       "    </tr>\n",
       "    <tr>\n",
       "      <th>tiers</th>\n",
       "      <th></th>\n",
       "      <th></th>\n",
       "      <th></th>\n",
       "      <th></th>\n",
       "      <th></th>\n",
       "      <th></th>\n",
       "      <th></th>\n",
       "    </tr>\n",
       "  </thead>\n",
       "  <tbody>\n",
       "    <tr>\n",
       "      <th>1</th>\n",
       "      <td>3.981949</td>\n",
       "      <td>2.063629</td>\n",
       "      <td>2.276521</td>\n",
       "      <td>7.809449</td>\n",
       "      <td>0.659152</td>\n",
       "      <td>0.0</td>\n",
       "      <td>0.0</td>\n",
       "    </tr>\n",
       "    <tr>\n",
       "      <th>2</th>\n",
       "      <td>4.519604</td>\n",
       "      <td>2.432005</td>\n",
       "      <td>2.762113</td>\n",
       "      <td>8.409840</td>\n",
       "      <td>0.752818</td>\n",
       "      <td>0.0</td>\n",
       "      <td>0.0</td>\n",
       "    </tr>\n",
       "    <tr>\n",
       "      <th>3</th>\n",
       "      <td>5.159515</td>\n",
       "      <td>3.014368</td>\n",
       "      <td>3.545610</td>\n",
       "      <td>8.849558</td>\n",
       "      <td>0.911840</td>\n",
       "      <td>0.0</td>\n",
       "      <td>0.0</td>\n",
       "    </tr>\n",
       "  </tbody>\n",
       "</table>\n",
       "</div>"
      ],
      "text/plain": [
       "          email    social   display  paid_search  referral  organic_search  \\\n",
       "tiers                                                                        \n",
       "1      3.981949  2.063629  2.276521     7.809449  0.659152             0.0   \n",
       "2      4.519604  2.432005  2.762113     8.409840  0.752818             0.0   \n",
       "3      5.159515  3.014368  3.545610     8.849558  0.911840             0.0   \n",
       "\n",
       "       direct  \n",
       "tiers          \n",
       "1         0.0  \n",
       "2         0.0  \n",
       "3         0.0  "
      ]
     },
     "execution_count": 7,
     "metadata": {},
     "output_type": "execute_result"
    }
   ],
   "source": [
    "# Compute the CAC for each tier each channel (linear)\n",
    "option = options[\"Linear\"]\n",
    "for i,convert in enumerate(convert_TF):\n",
    "    for j,tier in enumerate(tiers):\n",
    "        allocation_group[i][j].apply(lambda x: count(x,number_cus_linear[i][j],option),axis=1)\n",
    "# Compute the CAC for each tier each channel\n",
    "CACs = [[0 for _ in cost_types] for _ in tiers]\n",
    "for i in range(len(tiers)):\n",
    "    for j,cost_type in enumerate(cost_types):\n",
    "        CACs[i][j] = tiers_cost[i][cost_type]/number_cus_linear[0][i][cost_type]\n",
    "CACs = pd.DataFrame(CACs,columns=cost_types)\n",
    "CACs[\"tiers\"] = [1,2,3]\n",
    "CACs.set_index(\"tiers\")"
   ]
  },
  {
   "cell_type": "code",
   "execution_count": 8,
   "id": "81b3967c",
   "metadata": {
    "colab": {
     "base_uri": "https://localhost:8080/",
     "height": 173
    },
    "id": "e29d60e8",
    "outputId": "fb817704-74d7-435d-b0c6-5feec82ce6fe"
   },
   "outputs": [
    {
     "data": {
      "text/html": [
       "<div>\n",
       "<style scoped>\n",
       "    .dataframe tbody tr th:only-of-type {\n",
       "        vertical-align: middle;\n",
       "    }\n",
       "\n",
       "    .dataframe tbody tr th {\n",
       "        vertical-align: top;\n",
       "    }\n",
       "\n",
       "    .dataframe thead th {\n",
       "        text-align: right;\n",
       "    }\n",
       "</style>\n",
       "<table border=\"1\" class=\"dataframe\">\n",
       "  <thead>\n",
       "    <tr style=\"text-align: right;\">\n",
       "      <th></th>\n",
       "      <th>email</th>\n",
       "      <th>social</th>\n",
       "      <th>display</th>\n",
       "      <th>paid_search</th>\n",
       "      <th>referral</th>\n",
       "      <th>organic_search</th>\n",
       "      <th>direct</th>\n",
       "    </tr>\n",
       "    <tr>\n",
       "      <th>tiers</th>\n",
       "      <th></th>\n",
       "      <th></th>\n",
       "      <th></th>\n",
       "      <th></th>\n",
       "      <th></th>\n",
       "      <th></th>\n",
       "      <th></th>\n",
       "    </tr>\n",
       "  </thead>\n",
       "  <tbody>\n",
       "    <tr>\n",
       "      <th>1</th>\n",
       "      <td>3.558719</td>\n",
       "      <td>1.600000</td>\n",
       "      <td>1.893939</td>\n",
       "      <td>5.681818</td>\n",
       "      <td>0.825764</td>\n",
       "      <td>0.0</td>\n",
       "      <td>0.0</td>\n",
       "    </tr>\n",
       "    <tr>\n",
       "      <th>2</th>\n",
       "      <td>3.603604</td>\n",
       "      <td>1.886792</td>\n",
       "      <td>2.444988</td>\n",
       "      <td>5.763689</td>\n",
       "      <td>0.949217</td>\n",
       "      <td>0.0</td>\n",
       "      <td>0.0</td>\n",
       "    </tr>\n",
       "    <tr>\n",
       "      <th>3</th>\n",
       "      <td>4.580153</td>\n",
       "      <td>2.352941</td>\n",
       "      <td>3.171247</td>\n",
       "      <td>6.237006</td>\n",
       "      <td>1.112760</td>\n",
       "      <td>0.0</td>\n",
       "      <td>0.0</td>\n",
       "    </tr>\n",
       "  </tbody>\n",
       "</table>\n",
       "</div>"
      ],
      "text/plain": [
       "          email    social   display  paid_search  referral  organic_search  \\\n",
       "tiers                                                                        \n",
       "1      3.558719  1.600000  1.893939     5.681818  0.825764             0.0   \n",
       "2      3.603604  1.886792  2.444988     5.763689  0.949217             0.0   \n",
       "3      4.580153  2.352941  3.171247     6.237006  1.112760             0.0   \n",
       "\n",
       "       direct  \n",
       "tiers          \n",
       "1         0.0  \n",
       "2         0.0  \n",
       "3         0.0  "
      ]
     },
     "execution_count": 8,
     "metadata": {},
     "output_type": "execute_result"
    }
   ],
   "source": [
    "# Compute the CAC for each tier each channel (last)\n",
    "option = options[\"Last\"]\n",
    "for i,convert in enumerate(convert_TF):\n",
    "    for j,tier in enumerate(tiers):\n",
    "        allocation_group[i][j].apply(lambda x: count(x,number_cus_last[i][j],option),axis=1)\n",
    "# Compute the CAC for each tier each channel\n",
    "CACs = [[0 for _ in cost_types] for _ in tiers]\n",
    "for i in range(len(tiers)):\n",
    "    for j,cost_type in enumerate(cost_types):\n",
    "        CACs[i][j] = tiers_cost[i][cost_type]/number_cus_last[0][i][cost_type]\n",
    "CACs = pd.DataFrame(CACs,columns=cost_types)\n",
    "CACs[\"tiers\"] = [1,2,3]\n",
    "CACs.set_index(\"tiers\")"
   ]
  },
  {
   "cell_type": "code",
   "execution_count": 9,
   "id": "a999e1e1",
   "metadata": {
    "colab": {
     "base_uri": "https://localhost:8080/",
     "height": 173
    },
    "id": "016cc7e0",
    "outputId": "49cecba0-ed1e-4f2e-fecb-d1c81be7d967"
   },
   "outputs": [
    {
     "data": {
      "text/html": [
       "<div>\n",
       "<style scoped>\n",
       "    .dataframe tbody tr th:only-of-type {\n",
       "        vertical-align: middle;\n",
       "    }\n",
       "\n",
       "    .dataframe tbody tr th {\n",
       "        vertical-align: top;\n",
       "    }\n",
       "\n",
       "    .dataframe thead th {\n",
       "        text-align: right;\n",
       "    }\n",
       "</style>\n",
       "<table border=\"1\" class=\"dataframe\">\n",
       "  <thead>\n",
       "    <tr style=\"text-align: right;\">\n",
       "      <th></th>\n",
       "      <th>email</th>\n",
       "      <th>social</th>\n",
       "      <th>display</th>\n",
       "      <th>paid_search</th>\n",
       "      <th>referral</th>\n",
       "      <th>organic_search</th>\n",
       "      <th>direct</th>\n",
       "    </tr>\n",
       "    <tr>\n",
       "      <th>tiers</th>\n",
       "      <th></th>\n",
       "      <th></th>\n",
       "      <th></th>\n",
       "      <th></th>\n",
       "      <th></th>\n",
       "      <th></th>\n",
       "      <th></th>\n",
       "    </tr>\n",
       "  </thead>\n",
       "  <tbody>\n",
       "    <tr>\n",
       "      <th>1</th>\n",
       "      <td>3.813883</td>\n",
       "      <td>1.923693</td>\n",
       "      <td>2.169825</td>\n",
       "      <td>7.095553</td>\n",
       "      <td>0.695894</td>\n",
       "      <td>0.0</td>\n",
       "      <td>0.0</td>\n",
       "    </tr>\n",
       "    <tr>\n",
       "      <th>2</th>\n",
       "      <td>4.332443</td>\n",
       "      <td>2.255724</td>\n",
       "      <td>2.675585</td>\n",
       "      <td>7.720021</td>\n",
       "      <td>0.790816</td>\n",
       "      <td>0.0</td>\n",
       "      <td>0.0</td>\n",
       "    </tr>\n",
       "    <tr>\n",
       "      <th>3</th>\n",
       "      <td>4.927457</td>\n",
       "      <td>2.810743</td>\n",
       "      <td>3.413876</td>\n",
       "      <td>8.045052</td>\n",
       "      <td>0.959969</td>\n",
       "      <td>0.0</td>\n",
       "      <td>0.0</td>\n",
       "    </tr>\n",
       "  </tbody>\n",
       "</table>\n",
       "</div>"
      ],
      "text/plain": [
       "          email    social   display  paid_search  referral  organic_search  \\\n",
       "tiers                                                                        \n",
       "1      3.813883  1.923693  2.169825     7.095553  0.695894             0.0   \n",
       "2      4.332443  2.255724  2.675585     7.720021  0.790816             0.0   \n",
       "3      4.927457  2.810743  3.413876     8.045052  0.959969             0.0   \n",
       "\n",
       "       direct  \n",
       "tiers          \n",
       "1         0.0  \n",
       "2         0.0  \n",
       "3         0.0  "
      ]
     },
     "execution_count": 9,
     "metadata": {},
     "output_type": "execute_result"
    }
   ],
   "source": [
    "# Compute the CAC for each tier each channel (position)\n",
    "option = options[\"Position\"]\n",
    "for i,convert in enumerate(convert_TF):\n",
    "    for j,tier in enumerate(tiers):\n",
    "        allocation_group[i][j].apply(lambda x: count(x,number_cus_position[i][j],option),axis=1)\n",
    "# Compute the CAC for each tier each channel\n",
    "CACs = [[0 for _ in cost_types] for _ in tiers]\n",
    "for i in range(len(tiers)):\n",
    "    for j,cost_type in enumerate(cost_types):\n",
    "        CACs[i][j] = tiers_cost[i][cost_type]/number_cus_position[0][i][cost_type]\n",
    "CACs = pd.DataFrame(CACs,columns=cost_types)\n",
    "CACs[\"tiers\"] = [1,2,3]\n",
    "CACs.set_index(\"tiers\")"
   ]
  },
  {
   "cell_type": "markdown",
   "id": "3aed5803",
   "metadata": {
    "id": "Z8w7CXb28pjq"
   },
   "source": [
    "We chose position, last, and linear based model to calculate CAC. No matter which method is used to calculate the CAC, the CAC of the paid search and email channels is significantly larger than the CAC of other channels. The CAC of referral is the smallest among all methods. As a company that sells directly to consumers, referal marketing itself is the most effective sales method, because first, consumers tend to trust people they know more. Second, it is easier to locate the correct consumer group, because people who know each other often have similarities. Third, the speed of information dissemination is fast. In the current digital age, whether it is through social media with familiar people or influential opinion leaders on the Internet, the dissemination of information is rapid and massive.\n",
    "So we initially believe that we will allocate more budget to referral channel and less budget to paid-search and email channels,if each channel brings the same consumer value by default.\n"
   ]
  },
  {
   "cell_type": "markdown",
   "id": "f4b7b649",
   "metadata": {},
   "source": [
    "## Part 2, Allocation"
   ]
  },
  {
   "cell_type": "code",
   "execution_count": 10,
   "id": "1bcffc19",
   "metadata": {},
   "outputs": [],
   "source": [
    "import itertools"
   ]
  },
  {
   "cell_type": "code",
   "execution_count": 11,
   "id": "13e07ff4",
   "metadata": {},
   "outputs": [
    {
     "data": {
      "text/html": [
       "<div>\n",
       "<style scoped>\n",
       "    .dataframe tbody tr th:only-of-type {\n",
       "        vertical-align: middle;\n",
       "    }\n",
       "\n",
       "    .dataframe tbody tr th {\n",
       "        vertical-align: top;\n",
       "    }\n",
       "\n",
       "    .dataframe thead th {\n",
       "        text-align: right;\n",
       "    }\n",
       "</style>\n",
       "<table border=\"1\" class=\"dataframe\">\n",
       "  <thead>\n",
       "    <tr style=\"text-align: right;\">\n",
       "      <th></th>\n",
       "      <th>email</th>\n",
       "      <th>social</th>\n",
       "      <th>display</th>\n",
       "      <th>paid_search</th>\n",
       "      <th>referral</th>\n",
       "    </tr>\n",
       "  </thead>\n",
       "  <tbody>\n",
       "    <tr>\n",
       "      <th>0</th>\n",
       "      <td>3.813883</td>\n",
       "      <td>1.923693</td>\n",
       "      <td>2.169825</td>\n",
       "      <td>7.095553</td>\n",
       "      <td>0.695894</td>\n",
       "    </tr>\n",
       "    <tr>\n",
       "      <th>1</th>\n",
       "      <td>4.332443</td>\n",
       "      <td>2.255724</td>\n",
       "      <td>2.675585</td>\n",
       "      <td>7.720021</td>\n",
       "      <td>0.790816</td>\n",
       "    </tr>\n",
       "    <tr>\n",
       "      <th>2</th>\n",
       "      <td>4.927457</td>\n",
       "      <td>2.810743</td>\n",
       "      <td>3.413876</td>\n",
       "      <td>8.045052</td>\n",
       "      <td>0.959969</td>\n",
       "    </tr>\n",
       "  </tbody>\n",
       "</table>\n",
       "</div>"
      ],
      "text/plain": [
       "      email    social   display  paid_search  referral\n",
       "0  3.813883  1.923693  2.169825     7.095553  0.695894\n",
       "1  4.332443  2.255724  2.675585     7.720021  0.790816\n",
       "2  4.927457  2.810743  3.413876     8.045052  0.959969"
      ]
     },
     "execution_count": 11,
     "metadata": {},
     "output_type": "execute_result"
    }
   ],
   "source": [
    "CACs_attr = CACs.drop(columns = ['direct', 'organic_search','tiers'])\n",
    "CACs_attr"
   ]
  },
  {
   "cell_type": "markdown",
   "id": "a0d7cea6",
   "metadata": {},
   "source": [
    "First, we calculate the marginal CACs."
   ]
  },
  {
   "cell_type": "code",
   "execution_count": 29,
   "id": "0a2457aa",
   "metadata": {},
   "outputs": [],
   "source": [
    "CACs_marginal = CACs_attr\n",
    "tier2_margin = CACs_marginal.iloc[1,]*2-CACs_marginal.iloc[0,]\n",
    "tier3_margin = CACs_marginal.iloc[2,]*3-CACs_marginal.iloc[1,]*2"
   ]
  },
  {
   "cell_type": "code",
   "execution_count": 30,
   "id": "e0827ff3",
   "metadata": {},
   "outputs": [
    {
     "data": {
      "text/html": [
       "<div>\n",
       "<style scoped>\n",
       "    .dataframe tbody tr th:only-of-type {\n",
       "        vertical-align: middle;\n",
       "    }\n",
       "\n",
       "    .dataframe tbody tr th {\n",
       "        vertical-align: top;\n",
       "    }\n",
       "\n",
       "    .dataframe thead th {\n",
       "        text-align: right;\n",
       "    }\n",
       "</style>\n",
       "<table border=\"1\" class=\"dataframe\">\n",
       "  <thead>\n",
       "    <tr style=\"text-align: right;\">\n",
       "      <th></th>\n",
       "      <th>email</th>\n",
       "      <th>social</th>\n",
       "      <th>display</th>\n",
       "      <th>paid_search</th>\n",
       "      <th>referral</th>\n",
       "    </tr>\n",
       "  </thead>\n",
       "  <tbody>\n",
       "    <tr>\n",
       "      <th>0</th>\n",
       "      <td>3.813883</td>\n",
       "      <td>1.923693</td>\n",
       "      <td>2.169825</td>\n",
       "      <td>7.095553</td>\n",
       "      <td>0.695894</td>\n",
       "    </tr>\n",
       "    <tr>\n",
       "      <th>1</th>\n",
       "      <td>4.851003</td>\n",
       "      <td>2.587754</td>\n",
       "      <td>3.181346</td>\n",
       "      <td>8.344488</td>\n",
       "      <td>0.885738</td>\n",
       "    </tr>\n",
       "    <tr>\n",
       "      <th>2</th>\n",
       "      <td>6.117485</td>\n",
       "      <td>3.920782</td>\n",
       "      <td>4.890456</td>\n",
       "      <td>8.695116</td>\n",
       "      <td>1.298276</td>\n",
       "    </tr>\n",
       "  </tbody>\n",
       "</table>\n",
       "</div>"
      ],
      "text/plain": [
       "      email    social   display  paid_search  referral\n",
       "0  3.813883  1.923693  2.169825     7.095553  0.695894\n",
       "1  4.851003  2.587754  3.181346     8.344488  0.885738\n",
       "2  6.117485  3.920782  4.890456     8.695116  1.298276"
      ]
     },
     "execution_count": 30,
     "metadata": {},
     "output_type": "execute_result"
    }
   ],
   "source": [
    "CACs_marginal.iloc[1,] = tier2_margin\n",
    "CACs_marginal.iloc[2,] = tier3_margin\n",
    "CACs_marginal"
   ]
  },
  {
   "cell_type": "markdown",
   "id": "9c3493ff",
   "metadata": {},
   "source": [
    "Next, we look for the optimal allocation method. "
   ]
  },
  {
   "cell_type": "code",
   "execution_count": 13,
   "id": "9a00b38f",
   "metadata": {},
   "outputs": [],
   "source": [
    "# Get combinations of investment amount that number equals 5 and sum equals 11\n",
    "\n",
    "alloc_tiers = [0,1,2,3]\n",
    "combinations = list(itertools.combinations_with_replacement(alloc_tiers,5))\n",
    "choices = [combination for combination in combinations if sum(combination) == 11]"
   ]
  },
  {
   "cell_type": "code",
   "execution_count": 14,
   "id": "4fc00c03",
   "metadata": {},
   "outputs": [],
   "source": [
    "# Get all possible allocation chocies by permuting possible investment amounts\n",
    "\n",
    "alloc_choices = []\n",
    "for choice in choices:\n",
    "    permutations = list(set(itertools.permutations(choice)))\n",
    "    alloc_choices.extend(permutations)"
   ]
  },
  {
   "cell_type": "code",
   "execution_count": 15,
   "id": "707b418b",
   "metadata": {},
   "outputs": [],
   "source": [
    "# Write a function that calculates the average CAC for allocation choices\n",
    "\n",
    "def cac_calculator(alloc):\n",
    "    \n",
    "    '''\n",
    "    The input of the function is a list of allocation.\n",
    "    The output of the function is the calculated average CAC.\n",
    "    '''\n",
    "    alloc_sum = 0\n",
    "    for i in range(len(alloc)):\n",
    "        alloc_channel = alloc[i]\n",
    "        index = alloc_channel - 1\n",
    "        cac = CACs_attr.iloc[index,i]\n",
    "        alloc_weight = cac * alloc_channel\n",
    "        alloc_sum += alloc_weight\n",
    "\n",
    "    avg_cac = alloc_sum/11\n",
    "    \n",
    "    return avg_cac"
   ]
  },
  {
   "cell_type": "code",
   "execution_count": 16,
   "id": "4c513ccb",
   "metadata": {
    "scrolled": true
   },
   "outputs": [
    {
     "name": "stdout",
     "output_type": "stream",
     "text": [
      "Our optimal allocation method is [2000, 3000, 3000, 0, 3000].\n",
      "CAC of this allocation method is 2.75.\n"
     ]
    }
   ],
   "source": [
    "# Calculate the CAC for all choices and find the optimal one\n",
    "\n",
    "all_cac = [cac_calculator(alloc) for alloc in alloc_choices]\n",
    "cac_min = min(all_cac)\n",
    "index_min = all_cac.index(cac_min)\n",
    "optimal_allocation = list(alloc_choices[index_min])\n",
    "print(\"Our optimal allocation method is {}.\".format([alloc*1000 for alloc in optimal_allocation]))\n",
    "print(\"CAC of this allocation method is {:.2f}.\".format(cac_min))"
   ]
  },
  {
   "cell_type": "code",
   "execution_count": 17,
   "id": "122f18bb",
   "metadata": {},
   "outputs": [
    {
     "data": {
      "text/html": [
       "<div>\n",
       "<style scoped>\n",
       "    .dataframe tbody tr th:only-of-type {\n",
       "        vertical-align: middle;\n",
       "    }\n",
       "\n",
       "    .dataframe tbody tr th {\n",
       "        vertical-align: top;\n",
       "    }\n",
       "\n",
       "    .dataframe thead th {\n",
       "        text-align: right;\n",
       "    }\n",
       "</style>\n",
       "<table border=\"1\" class=\"dataframe\">\n",
       "  <thead>\n",
       "    <tr style=\"text-align: right;\">\n",
       "      <th></th>\n",
       "      <th>email</th>\n",
       "      <th>social</th>\n",
       "      <th>display</th>\n",
       "      <th>paid_search</th>\n",
       "      <th>referral</th>\n",
       "    </tr>\n",
       "  </thead>\n",
       "  <tbody>\n",
       "    <tr>\n",
       "      <th>2</th>\n",
       "      <td>4.927457</td>\n",
       "      <td>2.810743</td>\n",
       "      <td>3.413876</td>\n",
       "      <td>8.045052</td>\n",
       "      <td>0.959969</td>\n",
       "    </tr>\n",
       "  </tbody>\n",
       "</table>\n",
       "</div>"
      ],
      "text/plain": [
       "      email    social   display  paid_search  referral\n",
       "2  4.927457  2.810743  3.413876     8.045052  0.959969"
      ]
     },
     "execution_count": 17,
     "metadata": {},
     "output_type": "execute_result"
    }
   ],
   "source": [
    "# Focusing on tier 3\n",
    "\n",
    "CACs_attr_2 = CACs[CACs['tiers'] == 3]\n",
    "CACs_attr_2 = CACs_attr_2.drop(columns = ['direct', 'organic_search','tiers'])\n",
    "CACs_attr_2"
   ]
  },
  {
   "cell_type": "code",
   "execution_count": 18,
   "id": "0caf82ef",
   "metadata": {},
   "outputs": [
    {
     "data": {
      "text/plain": [
       "2.8553343628011816"
      ]
     },
     "execution_count": 18,
     "metadata": {},
     "output_type": "execute_result"
    }
   ],
   "source": [
    "(CACs_attr_2.iloc[0,0]*2 + CACs_attr_2.iloc[0,1]*3 + CACs_attr_2.iloc[0,2]*3 + CACs_attr_2.iloc[0,4]*3)/11"
   ]
  },
  {
   "cell_type": "code",
   "execution_count": 19,
   "id": "2d418e83",
   "metadata": {},
   "outputs": [
    {
     "data": {
      "text/plain": [
       "0.9599692809829875"
      ]
     },
     "execution_count": 19,
     "metadata": {},
     "output_type": "execute_result"
    }
   ],
   "source": [
    "CACs_attr_2.iloc[0,4]"
   ]
  },
  {
   "cell_type": "code",
   "execution_count": 20,
   "id": "bf6c7f06",
   "metadata": {},
   "outputs": [],
   "source": [
    "# Write a function that calculates the average CAC for allocation choices\n",
    "\n",
    "def cac_calculator2(alloc, attr):\n",
    "    \n",
    "    '''\n",
    "    The input of the function is a list of allocation.\n",
    "    The output of the function is the calculated average CAC.\n",
    "    '''\n",
    "    alloc_sum = 0\n",
    "    for i in range(len(alloc)):\n",
    "        alloc_channel = alloc[i]\n",
    "        index = 0\n",
    "        cac = attr.iloc[index,i]\n",
    "        alloc_weight = cac * alloc_channel\n",
    "        alloc_sum += alloc_weight\n",
    "\n",
    "    avg_cac = alloc_sum/11\n",
    "    \n",
    "    return avg_cac"
   ]
  },
  {
   "cell_type": "code",
   "execution_count": 21,
   "id": "32d8bed9",
   "metadata": {},
   "outputs": [
    {
     "name": "stdout",
     "output_type": "stream",
     "text": [
      "Our optimal allocation method is [2000, 3000, 3000, 0, 3000].\n",
      "CAC of this allocation method is 2.86.\n"
     ]
    }
   ],
   "source": [
    "# Calculate the CAC for all choices and find the optimal one\n",
    "\n",
    "all_cac = [cac_calculator2(alloc, CACs_attr_2) for alloc in alloc_choices]\n",
    "cac_min = min(all_cac)\n",
    "index_min = all_cac.index(cac_min)\n",
    "optimal_allocation = list(alloc_choices[index_min])\n",
    "print(\"Our optimal allocation method is {}.\".format([alloc*1000 for alloc in optimal_allocation]))\n",
    "print(\"CAC of this allocation method is {:.2f}.\".format(cac_min))"
   ]
  }
 ],
 "metadata": {
  "colab": {
   "name": "CAC.ipynb",
   "provenance": []
  },
  "kernelspec": {
   "display_name": "Python 3",
   "language": "python",
   "name": "python3"
  },
  "language_info": {
   "codemirror_mode": {
    "name": "ipython",
    "version": 3
   },
   "file_extension": ".py",
   "mimetype": "text/x-python",
   "name": "python",
   "nbconvert_exporter": "python",
   "pygments_lexer": "ipython3",
   "version": "3.8.8"
  }
 },
 "nbformat": 4,
 "nbformat_minor": 5
}
